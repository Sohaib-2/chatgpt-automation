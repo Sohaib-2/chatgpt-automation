{
 "cells": [
  {
   "cell_type": "markdown",
   "metadata": {},
   "source": [
    " # ChatGPT Automation Script"
   ]
  },
  {
   "cell_type": "markdown",
   "metadata": {},
   "source": [
    " ## Setup and Imports"
   ]
  },
  {
   "cell_type": "code",
   "execution_count": 1,
   "metadata": {},
   "outputs": [],
   "source": [
    "# Import necessary libraries\n",
    "from seleniumbase import Driver\n",
    "import time\n",
    "from selenium.webdriver.common.by import By\n",
    "from selenium.webdriver.common.keys import Keys\n",
    "from selenium.webdriver.support.ui import WebDriverWait\n",
    "from selenium.webdriver.support import expected_conditions as EC\n",
    "from selenium.webdriver.common.action_chains import ActionChains\n",
    "import os\n"
   ]
  },
  {
   "cell_type": "markdown",
   "metadata": {},
   "source": [
    " ## Initialize Browser and Navigate to ChatGPT"
   ]
  },
  {
   "cell_type": "code",
   "execution_count": 2,
   "metadata": {},
   "outputs": [],
   "source": [
    "def setup_browser():\n",
    "    # Initialize the driver with SeleniumBase\n",
    "    driver = Driver(uc=True)  # Using undetected_chromedriver mode to bypass detection\n",
    "    driver.maximize_window()\n",
    "    driver.implicitly_wait(10)\n",
    "    return driver\n"
   ]
  },
  {
   "cell_type": "code",
   "execution_count": 3,
   "metadata": {},
   "outputs": [
    {
     "name": "stdout",
     "output_type": "stream",
     "text": [
      "Browser initialized successfully\n"
     ]
    }
   ],
   "source": [
    "# Create a driver instance that we'll reuse across cells\n",
    "driver = setup_browser()\n",
    "print(\"Browser initialized successfully\")\n"
   ]
  },
  {
   "cell_type": "code",
   "execution_count": 4,
   "metadata": {},
   "outputs": [
    {
     "name": "stdout",
     "output_type": "stream",
     "text": [
      "ChatGPT opened successfully\n"
     ]
    }
   ],
   "source": [
    "# Navigate to ChatGPT\n",
    "driver.get(\"https://chat.openai.com/\")\n",
    "time.sleep(5)\n",
    "print(\"ChatGPT opened successfully\")\n"
   ]
  },
  {
   "cell_type": "markdown",
   "metadata": {},
   "source": [
    " ## Find and Click Login Button"
   ]
  },
  {
   "cell_type": "code",
   "execution_count": 5,
   "metadata": {},
   "outputs": [],
   "source": [
    "def find_login_button(driver):\n",
    "    try:\n",
    "        # Using data-testid attribute for reliable selection\n",
    "        login_button = WebDriverWait(driver, 10).until(\n",
    "            EC.presence_of_element_located((By.CSS_SELECTOR, \"button[data-testid='login-button']\"))\n",
    "        )\n",
    "        \n",
    "        if login_button:\n",
    "            print(\"Login button found\")\n",
    "            return login_button\n",
    "        else:\n",
    "            print(\"Login button not found\")\n",
    "            return None\n",
    "    except Exception as e:\n",
    "        print(f\"Error finding login button: {e}\")\n",
    "        return None\n"
   ]
  },
  {
   "cell_type": "code",
   "execution_count": 6,
   "metadata": {},
   "outputs": [
    {
     "name": "stdout",
     "output_type": "stream",
     "text": [
      "Login button found\n",
      "Login button found - ready to click\n"
     ]
    }
   ],
   "source": [
    "login_button = find_login_button(driver)\n",
    "if login_button:\n",
    "    print(\"Login button found - ready to click\")\n"
   ]
  },
  {
   "cell_type": "code",
   "execution_count": 7,
   "metadata": {},
   "outputs": [
    {
     "name": "stdout",
     "output_type": "stream",
     "text": [
      "Login button clicked\n"
     ]
    }
   ],
   "source": [
    "# Click the login button (only run when needed)\n",
    "if login_button:\n",
    "    login_button.click()\n",
    "    print(\"Login button clicked\")\n",
    "    # Wait for the login page to load\n",
    "    time.sleep(3)\n"
   ]
  },
  {
   "cell_type": "markdown",
   "metadata": {},
   "source": [
    " ## Handle Email Input"
   ]
  },
  {
   "cell_type": "code",
   "execution_count": 8,
   "metadata": {},
   "outputs": [],
   "source": [
    "def enter_email(driver, email):\n",
    "    try:\n",
    "        # Wait for email input field to be present\n",
    "        email_input = WebDriverWait(driver, 10).until(\n",
    "            EC.presence_of_element_located((By.ID, \"email-input\"))\n",
    "        )\n",
    "        \n",
    "        # Type email like a human\n",
    "        for char in email:\n",
    "            email_input.send_keys(char)\n",
    "            time.sleep(0.1)\n",
    "        \n",
    "        print(\"Email entered successfully\")\n",
    "        return True\n",
    "    except Exception as e:\n",
    "        print(f\"Error entering email: {e}\")\n",
    "        return False\n"
   ]
  },
  {
   "cell_type": "code",
   "execution_count": 9,
   "metadata": {},
   "outputs": [
    {
     "name": "stdout",
     "output_type": "stream",
     "text": [
      "Email entered successfully\n"
     ]
    },
    {
     "data": {
      "text/plain": [
       "True"
      ]
     },
     "execution_count": 9,
     "metadata": {},
     "output_type": "execute_result"
    }
   ],
   "source": [
    "# Enter email (only run when needed)\n",
    "email = \"learn2useai@gmail.com\"  # Replace with actual email\n",
    "enter_email(driver, email)\n"
   ]
  },
  {
   "cell_type": "markdown",
   "metadata": {},
   "source": [
    " ## Click Continue After Email"
   ]
  },
  {
   "cell_type": "code",
   "execution_count": 10,
   "metadata": {},
   "outputs": [],
   "source": [
    "def click_continue_after_email(driver):\n",
    "    try:\n",
    "        # Wait for continue button to be clickable\n",
    "        continue_button = WebDriverWait(driver, 10).until(\n",
    "            EC.element_to_be_clickable((By.CSS_SELECTOR, \"input.continue-btn\"))\n",
    "        )\n",
    "        \n",
    "        # Click continue button\n",
    "        continue_button.click()\n",
    "        print(\"Clicked continue after email\")\n",
    "        return True\n",
    "    except Exception as e:\n",
    "        print(f\"Error clicking continue after email: {e}\")\n",
    "        return False\n"
   ]
  },
  {
   "cell_type": "code",
   "execution_count": 11,
   "metadata": {},
   "outputs": [
    {
     "name": "stdout",
     "output_type": "stream",
     "text": [
      "Clicked continue after email\n"
     ]
    },
    {
     "data": {
      "text/plain": [
       "True"
      ]
     },
     "execution_count": 11,
     "metadata": {},
     "output_type": "execute_result"
    }
   ],
   "source": [
    "# Click continue after email (only run when needed)\n",
    "click_continue_after_email(driver)\n"
   ]
  },
  {
   "cell_type": "markdown",
   "metadata": {},
   "source": [
    " ## Handle Password Input"
   ]
  },
  {
   "cell_type": "code",
   "execution_count": 12,
   "metadata": {},
   "outputs": [],
   "source": [
    "def enter_password(driver, password):\n",
    "    try:\n",
    "        # Wait for password field to be visible\n",
    "        password_input = WebDriverWait(driver, 10).until(\n",
    "            EC.visibility_of_element_located((By.ID, \"password\"))\n",
    "        )\n",
    "        \n",
    "        # Type password like a human\n",
    "        for char in password:\n",
    "            password_input.send_keys(char)\n",
    "            time.sleep(0.1)\n",
    "        \n",
    "        print(\"Password entered successfully\")\n",
    "        return True\n",
    "    except Exception as e:\n",
    "        print(f\"Error entering password: {e}\")\n",
    "        return False\n"
   ]
  },
  {
   "cell_type": "code",
   "execution_count": 13,
   "metadata": {},
   "outputs": [
    {
     "name": "stdout",
     "output_type": "stream",
     "text": [
      "Password entered successfully\n"
     ]
    },
    {
     "data": {
      "text/plain": [
       "True"
      ]
     },
     "execution_count": 13,
     "metadata": {},
     "output_type": "execute_result"
    }
   ],
   "source": [
    "# Enter password (only run when needed)\n",
    "password = \"pass4Chatgpt!\"  # Replace with actual password\n",
    "enter_password(driver, password)\n"
   ]
  },
  {
   "cell_type": "markdown",
   "metadata": {},
   "source": [
    " ## Click Continue After Password"
   ]
  },
  {
   "cell_type": "code",
   "execution_count": 14,
   "metadata": {},
   "outputs": [],
   "source": [
    "def click_continue_after_password(driver):\n",
    "    try:\n",
    "        # Wait for the continue button\n",
    "        continue_button = WebDriverWait(driver, 10).until(\n",
    "            EC.element_to_be_clickable((By.CSS_SELECTOR, \"button[type='submit']\"))\n",
    "        )\n",
    "        \n",
    "        # Click the continue button\n",
    "        continue_button.click()\n",
    "        print(\"Clicked continue after password\")\n",
    "        \n",
    "        # Wait for ChatGPT to load\n",
    "        time.sleep(5)\n",
    "        return True\n",
    "    except Exception as e:\n",
    "        print(f\"Error clicking continue after password: {e}\")\n",
    "        return False\n"
   ]
  },
  {
   "cell_type": "code",
   "execution_count": 15,
   "metadata": {},
   "outputs": [
    {
     "name": "stdout",
     "output_type": "stream",
     "text": [
      "Clicked continue after password\n"
     ]
    },
    {
     "data": {
      "text/plain": [
       "True"
      ]
     },
     "execution_count": 15,
     "metadata": {},
     "output_type": "execute_result"
    }
   ],
   "source": [
    "# Click continue after password (only run when needed)\n",
    "click_continue_after_password(driver)\n"
   ]
  },
  {
   "cell_type": "markdown",
   "metadata": {},
   "source": [
    " ## Enter and Send Prompt"
   ]
  },
  {
   "cell_type": "code",
   "execution_count": 16,
   "metadata": {},
   "outputs": [],
   "source": [
    "def enter_prompt(driver, prompt):\n",
    "    try:\n",
    "        # Find the textarea/div for input\n",
    "        input_area = WebDriverWait(driver, 10).until(\n",
    "            EC.element_to_be_clickable((By.CSS_SELECTOR, \"div[contenteditable='true'][data-virtualkeyboard='true']\"))\n",
    "        )\n",
    "        \n",
    "        # Click on the input area to focus it\n",
    "        input_area.click()\n",
    "        \n",
    "        # Type the prompt like a human\n",
    "        for char in prompt:\n",
    "            ActionChains(driver).send_keys(char).perform()\n",
    "            time.sleep(0.05)\n",
    "        \n",
    "        print(\"Prompt entered successfully\")\n",
    "        return True\n",
    "    except Exception as e:\n",
    "        print(f\"Error entering prompt: {e}\")\n",
    "        return False\n"
   ]
  },
  {
   "cell_type": "code",
   "execution_count": 17,
   "metadata": {},
   "outputs": [
    {
     "name": "stdout",
     "output_type": "stream",
     "text": [
      "Prompt entered successfully\n"
     ]
    },
    {
     "data": {
      "text/plain": [
       "True"
      ]
     },
     "execution_count": 17,
     "metadata": {},
     "output_type": "execute_result"
    }
   ],
   "source": [
    "# Enter prompt (only run when needed)\n",
    "prompt = \"Write a 250-word piece on the benefits of walking.\"\n",
    "enter_prompt(driver, prompt)\n"
   ]
  },
  {
   "cell_type": "markdown",
   "metadata": {},
   "source": [
    " ## Send the Prompt"
   ]
  },
  {
   "cell_type": "code",
   "execution_count": 18,
   "metadata": {},
   "outputs": [],
   "source": [
    "def send_prompt(driver):\n",
    "    try:\n",
    "        # Find and click the send button\n",
    "        send_button = WebDriverWait(driver, 10).until(\n",
    "            EC.element_to_be_clickable((By.CSS_SELECTOR, \"button[data-testid='send-button']\"))\n",
    "        )\n",
    "        \n",
    "        # If not found by data-testid, try alternative selectors\n",
    "        if not send_button:\n",
    "            send_button = WebDriverWait(driver, 5).until(\n",
    "                EC.element_to_be_clickable((By.CSS_SELECTOR, \"button.absolute.rounded-md\"))\n",
    "            )\n",
    "        \n",
    "        # Click the send button\n",
    "        send_button.click()\n",
    "        print(\"Prompt sent successfully\")\n",
    "        return True\n",
    "    except Exception as e:\n",
    "        print(f\"Error sending prompt: {e}\")\n",
    "        return False\n"
   ]
  },
  {
   "cell_type": "code",
   "execution_count": 19,
   "metadata": {},
   "outputs": [
    {
     "name": "stdout",
     "output_type": "stream",
     "text": [
      "Prompt sent successfully\n"
     ]
    },
    {
     "data": {
      "text/plain": [
       "True"
      ]
     },
     "execution_count": 19,
     "metadata": {},
     "output_type": "execute_result"
    }
   ],
   "source": [
    "# Send the prompt (only run when needed)\n",
    "send_prompt(driver)\n"
   ]
  },
  {
   "cell_type": "markdown",
   "metadata": {},
   "source": [
    " ## Wait for Response to Complete"
   ]
  },
  {
   "cell_type": "code",
   "execution_count": 20,
   "metadata": {},
   "outputs": [],
   "source": [
    "def wait_for_response(driver):\n",
    "    try:\n",
    "        # First wait for the stop generating button to appear\n",
    "        try:\n",
    "            stop_button = WebDriverWait(driver, 10).until(\n",
    "                EC.presence_of_element_located((By.CSS_SELECTOR, \"button[aria-label='Stop generating']\"))\n",
    "            )\n",
    "            print(\"ChatGPT is generating a response...\")\n",
    "        except:\n",
    "            print(\"Stop button not found, response may be quick or already complete\")\n",
    "        \n",
    "        # Then wait for it to disappear (response complete)\n",
    "        try:\n",
    "            WebDriverWait(driver, 60).until_not(\n",
    "                EC.presence_of_element_located((By.CSS_SELECTOR, \"button[aria-label='Stop generating']\"))\n",
    "            )\n",
    "            print(\"Response generation complete\")\n",
    "        except:\n",
    "            print(\"Stop button not found, assuming response is complete\")\n",
    "        \n",
    "        # Wait a bit more to ensure the full response is loaded\n",
    "        time.sleep(2)\n",
    "        return True\n",
    "    except Exception as e:\n",
    "        print(f\"Error waiting for response: {e}\")\n",
    "        return False\n"
   ]
  },
  {
   "cell_type": "code",
   "execution_count": 21,
   "metadata": {},
   "outputs": [
    {
     "name": "stdout",
     "output_type": "stream",
     "text": [
      "Stop button not found, response may be quick or already complete\n",
      "Response generation complete\n"
     ]
    },
    {
     "data": {
      "text/plain": [
       "True"
      ]
     },
     "execution_count": 21,
     "metadata": {},
     "output_type": "execute_result"
    }
   ],
   "source": [
    "# Wait for response to complete (only run when needed)\n",
    "wait_for_response(driver)\n"
   ]
  },
  {
   "cell_type": "markdown",
   "metadata": {},
   "source": [
    " ## Extract Response Text"
   ]
  },
  {
   "cell_type": "code",
   "execution_count": 22,
   "metadata": {},
   "outputs": [],
   "source": [
    "def extract_response(driver):\n",
    "    try:\n",
    "        # Find the response element\n",
    "        response_element = WebDriverWait(driver, 10).until(\n",
    "            EC.presence_of_element_located((By.CSS_SELECTOR, \"div.markdown.prose\"))\n",
    "        )\n",
    "        \n",
    "        # Get the text of the response\n",
    "        response_text = response_element.text\n",
    "        print(\"Response extracted successfully\")\n",
    "        return response_text\n",
    "    except Exception as e:\n",
    "        print(f\"Error extracting response: {e}\")\n",
    "        return None\n"
   ]
  },
  {
   "cell_type": "code",
   "execution_count": 23,
   "metadata": {},
   "outputs": [
    {
     "name": "stdout",
     "output_type": "stream",
     "text": [
      "Response extracted successfully\n",
      "\n",
      "Response Preview (first 100 characters):\n",
      "The Benefits of Walking\n",
      "Walking is one of the simplest and most effective ways to improve overall he...\n"
     ]
    }
   ],
   "source": [
    "# Extract the response text (only run when needed)\n",
    "response_text = extract_response(driver)\n",
    "if response_text:\n",
    "    print(\"\\nResponse Preview (first 100 characters):\")\n",
    "    print(response_text[:100] + \"...\")\n"
   ]
  },
  {
   "cell_type": "markdown",
   "metadata": {},
   "source": [
    " ## Save Response to File"
   ]
  },
  {
   "cell_type": "code",
   "execution_count": 24,
   "metadata": {},
   "outputs": [],
   "source": [
    "def save_response(response_text, filename=\"chatgpt_response.txt\"):\n",
    "    try:\n",
    "        with open(filename, 'w', encoding='utf-8') as file:\n",
    "            file.write(response_text)\n",
    "        print(f\"Response saved to {filename}\")\n",
    "        return True\n",
    "    except Exception as e:\n",
    "        print(f\"Error saving response to file: {e}\")\n",
    "        return False\n"
   ]
  },
  {
   "cell_type": "code",
   "execution_count": 25,
   "metadata": {},
   "outputs": [
    {
     "name": "stdout",
     "output_type": "stream",
     "text": [
      "Response saved to chatgpt_response.txt\n"
     ]
    }
   ],
   "source": [
    "# Save the response to a file (only run when needed)\n",
    "if response_text:\n",
    "    save_response(response_text)\n"
   ]
  }
 ],
 "metadata": {
  "kernelspec": {
   "display_name": ".venv",
   "language": "python",
   "name": "python3"
  },
  "language_info": {
   "codemirror_mode": {
    "name": "ipython",
    "version": 3
   },
   "file_extension": ".py",
   "mimetype": "text/x-python",
   "name": "python",
   "nbconvert_exporter": "python",
   "pygments_lexer": "ipython3",
   "version": "3.12.3"
  }
 },
 "nbformat": 4,
 "nbformat_minor": 2
}
